{
 "cells": [
  {
   "cell_type": "markdown",
   "id": "413466ec",
   "metadata": {},
   "source": [
    "                                   Problem Statement: Abalone Age Prediction\n",
    "Description:- Predicting the age of abalone from physical measurements. The age of abalone is\n",
    "determined by cutting the shell through the cone, staining it, and counting the number of rings through\n",
    "a microscope -- a boring and time-consuming task. Other measurements, which are easier to obtain,\n",
    "are used to predict age. Further information, such as weather patterns and location (hence food\n",
    "availability) may be required to solve the problem.\n",
    "\n",
    "Attribute Information:\n",
    "Given is the attribute name, attribute type, measurement unit, and a brief description. The number of\n",
    "rings is the value to predict: either as a continuous value or as a classification problem.\n",
    "\n",
    "Name / Data Type / Measurement Unit / Description\n",
    "\n",
    "1- Sex / nominal / -- / M, F, and I (infant)\n",
    "\n",
    "2- Length / continuous / mm / Longest shell measurement\n",
    "\n",
    "3- Diameter / continuous / mm / perpendicular to length\n",
    "\n",
    "4- Height / continuous / mm / with meat in shell\n",
    "\n",
    "5- Whole weight / continuous / grams / whole abalone\n",
    "\n",
    "6- Shucked weight / continuous / grams / weight of meat\n",
    "\n",
    "7- Viscera weight / continuous / grams / gut weight (after bleeding)\n",
    "\n",
    "8- Shell weight / continuous / grams / after being dried\n",
    "\n",
    "9- Rings / integer / -- / +1.5 gives the age in years"
   ]
  },
  {
   "cell_type": "code",
   "execution_count": 1,
   "id": "37cda7b2",
   "metadata": {},
   "outputs": [],
   "source": [
    "import numpy as np\n",
    "import pandas as pd\n",
    "import matplotlib.pyplot as plt\n",
    "import seaborn as sns\n",
    "import warnings\n",
    "warnings.filterwarnings('ignore')"
   ]
  },
  {
   "cell_type": "markdown",
   "id": "129e97a5",
   "metadata": {},
   "source": [
    "# Load the dataset into the tool"
   ]
  },
  {
   "cell_type": "code",
   "execution_count": 2,
   "id": "65a55c1b",
   "metadata": {},
   "outputs": [
    {
     "data": {
      "text/html": [
       "<div>\n",
       "<style scoped>\n",
       "    .dataframe tbody tr th:only-of-type {\n",
       "        vertical-align: middle;\n",
       "    }\n",
       "\n",
       "    .dataframe tbody tr th {\n",
       "        vertical-align: top;\n",
       "    }\n",
       "\n",
       "    .dataframe thead th {\n",
       "        text-align: right;\n",
       "    }\n",
       "</style>\n",
       "<table border=\"1\" class=\"dataframe\">\n",
       "  <thead>\n",
       "    <tr style=\"text-align: right;\">\n",
       "      <th></th>\n",
       "      <th>Sex</th>\n",
       "      <th>Length</th>\n",
       "      <th>Diameter</th>\n",
       "      <th>Height</th>\n",
       "      <th>Whole weight</th>\n",
       "      <th>Shucked weight</th>\n",
       "      <th>Viscera weight</th>\n",
       "      <th>Shell weight</th>\n",
       "      <th>Rings</th>\n",
       "    </tr>\n",
       "  </thead>\n",
       "  <tbody>\n",
       "    <tr>\n",
       "      <th>0</th>\n",
       "      <td>M</td>\n",
       "      <td>0.455</td>\n",
       "      <td>0.365</td>\n",
       "      <td>0.095</td>\n",
       "      <td>0.5140</td>\n",
       "      <td>0.2245</td>\n",
       "      <td>0.1010</td>\n",
       "      <td>0.150</td>\n",
       "      <td>15</td>\n",
       "    </tr>\n",
       "    <tr>\n",
       "      <th>1</th>\n",
       "      <td>M</td>\n",
       "      <td>0.350</td>\n",
       "      <td>0.265</td>\n",
       "      <td>0.090</td>\n",
       "      <td>0.2255</td>\n",
       "      <td>0.0995</td>\n",
       "      <td>0.0485</td>\n",
       "      <td>0.070</td>\n",
       "      <td>7</td>\n",
       "    </tr>\n",
       "    <tr>\n",
       "      <th>2</th>\n",
       "      <td>F</td>\n",
       "      <td>0.530</td>\n",
       "      <td>0.420</td>\n",
       "      <td>0.135</td>\n",
       "      <td>0.6770</td>\n",
       "      <td>0.2565</td>\n",
       "      <td>0.1415</td>\n",
       "      <td>0.210</td>\n",
       "      <td>9</td>\n",
       "    </tr>\n",
       "    <tr>\n",
       "      <th>3</th>\n",
       "      <td>M</td>\n",
       "      <td>0.440</td>\n",
       "      <td>0.365</td>\n",
       "      <td>0.125</td>\n",
       "      <td>0.5160</td>\n",
       "      <td>0.2155</td>\n",
       "      <td>0.1140</td>\n",
       "      <td>0.155</td>\n",
       "      <td>10</td>\n",
       "    </tr>\n",
       "    <tr>\n",
       "      <th>4</th>\n",
       "      <td>I</td>\n",
       "      <td>0.330</td>\n",
       "      <td>0.255</td>\n",
       "      <td>0.080</td>\n",
       "      <td>0.2050</td>\n",
       "      <td>0.0895</td>\n",
       "      <td>0.0395</td>\n",
       "      <td>0.055</td>\n",
       "      <td>7</td>\n",
       "    </tr>\n",
       "  </tbody>\n",
       "</table>\n",
       "</div>"
      ],
      "text/plain": [
       "  Sex  Length  Diameter  Height  Whole weight  Shucked weight  Viscera weight  \\\n",
       "0   M   0.455     0.365   0.095        0.5140          0.2245          0.1010   \n",
       "1   M   0.350     0.265   0.090        0.2255          0.0995          0.0485   \n",
       "2   F   0.530     0.420   0.135        0.6770          0.2565          0.1415   \n",
       "3   M   0.440     0.365   0.125        0.5160          0.2155          0.1140   \n",
       "4   I   0.330     0.255   0.080        0.2050          0.0895          0.0395   \n",
       "\n",
       "   Shell weight  Rings  \n",
       "0         0.150     15  \n",
       "1         0.070      7  \n",
       "2         0.210      9  \n",
       "3         0.155     10  \n",
       "4         0.055      7  "
      ]
     },
     "execution_count": 2,
     "metadata": {},
     "output_type": "execute_result"
    }
   ],
   "source": [
    "data=pd.read_csv('./abalone.csv')\n",
    "df=data.copy()\n",
    "df.head()"
   ]
  },
  {
   "cell_type": "code",
   "execution_count": 3,
   "id": "f1d82055",
   "metadata": {},
   "outputs": [
    {
     "data": {
      "text/html": [
       "<div>\n",
       "<style scoped>\n",
       "    .dataframe tbody tr th:only-of-type {\n",
       "        vertical-align: middle;\n",
       "    }\n",
       "\n",
       "    .dataframe tbody tr th {\n",
       "        vertical-align: top;\n",
       "    }\n",
       "\n",
       "    .dataframe thead th {\n",
       "        text-align: right;\n",
       "    }\n",
       "</style>\n",
       "<table border=\"1\" class=\"dataframe\">\n",
       "  <thead>\n",
       "    <tr style=\"text-align: right;\">\n",
       "      <th></th>\n",
       "      <th>Sex</th>\n",
       "      <th>Length</th>\n",
       "      <th>Diameter</th>\n",
       "      <th>Height</th>\n",
       "      <th>Whole weight</th>\n",
       "      <th>Shucked weight</th>\n",
       "      <th>Viscera weight</th>\n",
       "      <th>Shell weight</th>\n",
       "      <th>Age</th>\n",
       "    </tr>\n",
       "  </thead>\n",
       "  <tbody>\n",
       "    <tr>\n",
       "      <th>0</th>\n",
       "      <td>M</td>\n",
       "      <td>0.455</td>\n",
       "      <td>0.365</td>\n",
       "      <td>0.095</td>\n",
       "      <td>0.5140</td>\n",
       "      <td>0.2245</td>\n",
       "      <td>0.1010</td>\n",
       "      <td>0.150</td>\n",
       "      <td>16.5</td>\n",
       "    </tr>\n",
       "    <tr>\n",
       "      <th>1</th>\n",
       "      <td>M</td>\n",
       "      <td>0.350</td>\n",
       "      <td>0.265</td>\n",
       "      <td>0.090</td>\n",
       "      <td>0.2255</td>\n",
       "      <td>0.0995</td>\n",
       "      <td>0.0485</td>\n",
       "      <td>0.070</td>\n",
       "      <td>8.5</td>\n",
       "    </tr>\n",
       "    <tr>\n",
       "      <th>2</th>\n",
       "      <td>F</td>\n",
       "      <td>0.530</td>\n",
       "      <td>0.420</td>\n",
       "      <td>0.135</td>\n",
       "      <td>0.6770</td>\n",
       "      <td>0.2565</td>\n",
       "      <td>0.1415</td>\n",
       "      <td>0.210</td>\n",
       "      <td>10.5</td>\n",
       "    </tr>\n",
       "    <tr>\n",
       "      <th>3</th>\n",
       "      <td>M</td>\n",
       "      <td>0.440</td>\n",
       "      <td>0.365</td>\n",
       "      <td>0.125</td>\n",
       "      <td>0.5160</td>\n",
       "      <td>0.2155</td>\n",
       "      <td>0.1140</td>\n",
       "      <td>0.155</td>\n",
       "      <td>11.5</td>\n",
       "    </tr>\n",
       "    <tr>\n",
       "      <th>4</th>\n",
       "      <td>I</td>\n",
       "      <td>0.330</td>\n",
       "      <td>0.255</td>\n",
       "      <td>0.080</td>\n",
       "      <td>0.2050</td>\n",
       "      <td>0.0895</td>\n",
       "      <td>0.0395</td>\n",
       "      <td>0.055</td>\n",
       "      <td>8.5</td>\n",
       "    </tr>\n",
       "  </tbody>\n",
       "</table>\n",
       "</div>"
      ],
      "text/plain": [
       "  Sex  Length  Diameter  Height  Whole weight  Shucked weight  Viscera weight  \\\n",
       "0   M   0.455     0.365   0.095        0.5140          0.2245          0.1010   \n",
       "1   M   0.350     0.265   0.090        0.2255          0.0995          0.0485   \n",
       "2   F   0.530     0.420   0.135        0.6770          0.2565          0.1415   \n",
       "3   M   0.440     0.365   0.125        0.5160          0.2155          0.1140   \n",
       "4   I   0.330     0.255   0.080        0.2050          0.0895          0.0395   \n",
       "\n",
       "   Shell weight   Age  \n",
       "0         0.150  16.5  \n",
       "1         0.070   8.5  \n",
       "2         0.210  10.5  \n",
       "3         0.155  11.5  \n",
       "4         0.055   8.5  "
      ]
     },
     "execution_count": 3,
     "metadata": {},
     "output_type": "execute_result"
    }
   ],
   "source": [
    "df['Age']=df.Rings+1.5\n",
    "df.drop(columns=['Rings'],inplace=True)\n",
    "df.head()"
   ]
  },
  {
   "cell_type": "code",
   "execution_count": 4,
   "id": "d9236127",
   "metadata": {},
   "outputs": [
    {
     "data": {
      "text/plain": [
       "(4177, 9)"
      ]
     },
     "execution_count": 4,
     "metadata": {},
     "output_type": "execute_result"
    }
   ],
   "source": [
    "df.shape"
   ]
  },
  {
   "cell_type": "code",
   "execution_count": 5,
   "id": "2aee7390",
   "metadata": {},
   "outputs": [
    {
     "name": "stdout",
     "output_type": "stream",
     "text": [
      "<class 'pandas.core.frame.DataFrame'>\n",
      "RangeIndex: 4177 entries, 0 to 4176\n",
      "Data columns (total 9 columns):\n",
      " #   Column          Non-Null Count  Dtype  \n",
      "---  ------          --------------  -----  \n",
      " 0   Sex             4177 non-null   object \n",
      " 1   Length          4177 non-null   float64\n",
      " 2   Diameter        4177 non-null   float64\n",
      " 3   Height          4177 non-null   float64\n",
      " 4   Whole weight    4177 non-null   float64\n",
      " 5   Shucked weight  4177 non-null   float64\n",
      " 6   Viscera weight  4177 non-null   float64\n",
      " 7   Shell weight    4177 non-null   float64\n",
      " 8   Age             4177 non-null   float64\n",
      "dtypes: float64(8), object(1)\n",
      "memory usage: 293.8+ KB\n"
     ]
    }
   ],
   "source": [
    "df.info()"
   ]
  },
  {
   "cell_type": "code",
   "execution_count": 6,
   "id": "3992c324",
   "metadata": {},
   "outputs": [
    {
     "data": {
      "text/plain": [
       "M    1528\n",
       "I    1342\n",
       "F    1307\n",
       "Name: Sex, dtype: int64"
      ]
     },
     "execution_count": 6,
     "metadata": {},
     "output_type": "execute_result"
    }
   ],
   "source": [
    "df.Sex.value_counts()"
   ]
  },
  {
   "cell_type": "markdown",
   "id": "a71001ef",
   "metadata": {},
   "source": [
    "# Visualization"
   ]
  },
  {
   "cell_type": "markdown",
   "id": "391d8bb0",
   "metadata": {},
   "source": [
    "Univariate Analysis"
   ]
  },
  {
   "cell_type": "code",
   "execution_count": 7,
   "id": "fc087d36",
   "metadata": {},
   "outputs": [
    {
     "data": {
      "image/png": "[encoded data removed]",
      "text/plain": [
       "<Figure size 432x288 with 1 Axes>"
      ]
     },
     "metadata": {},
     "output_type": "display_data"
    }
   ],
   "source": [
    "plt.pie(df.Sex.value_counts(),labels=['MALE','INFANT','FEMALE'],autopct=\"%.2f\")\n",
    "plt.title='Sex of Abalone'\n",
    "plt.show()\n"
   ]
  },
  {
   "cell_type": "code",
   "execution_count": 8,
   "id": "302ade1c",
   "metadata": {},
   "outputs": [
    {
     "data": {
      "text/plain": [
       "<AxesSubplot:xlabel='Length', ylabel='Density'>"
      ]
     },
     "execution_count": 8,
     "metadata": {},
     "output_type": "execute_result"
    },
    {
     "data": {
      "image/png": "[encoded data removed]",
      "text/plain": [
       "<Figure size 432x288 with 1 Axes>"
      ]
     },
     "metadata": {
      "needs_background": "light"
     },
     "output_type": "display_data"
    }
   ],
   "source": [
    "sns.distplot(df.Length,hist=False)"
   ]
  },
  {
   "cell_type": "code",
   "execution_count": 9,
   "id": "2e24e400",
   "metadata": {},
   "outputs": [
    {
     "data": {
      "text/plain": [
       "<seaborn.axisgrid.FacetGrid at 0x27ac40197f0>"
      ]
     },
     "execution_count": 9,
     "metadata": {},
     "output_type": "execute_result"
    },
    {
     "data": {
      "image/png": "[encoded data removed]",
      "text/plain": [
       "<Figure size 360x360 with 1 Axes>"
      ]
     },
     "metadata": {
      "needs_background": "light"
     },
     "output_type": "display_data"
    }
   ],
   "source": [
    "sns.displot(data=df,x='Diameter')"
   ]
  },
  {
   "cell_type": "code",
   "execution_count": 10,
   "id": "dd6b527a",
   "metadata": {},
   "outputs": [
    {
     "data": {
      "text/plain": [
       "<AxesSubplot:xlabel='Age', ylabel='Density'>"
      ]
     },
     "execution_count": 10,
     "metadata": {},
     "output_type": "execute_result"
    },
    {
     "data": {
      "image/png": "[encoded data removed]",
      "text/plain": [
       "<Figure size 432x288 with 1 Axes>"
      ]
     },
     "metadata": {
      "needs_background": "light"
     },
     "output_type": "display_data"
    }
   ],
   "source": [
    "sns.distplot(df.Age)"
   ]
  },
  {
   "cell_type": "code",
   "execution_count": 11,
   "id": "1553d9a7",
   "metadata": {},
   "outputs": [
    {
     "data": {
      "text/plain": [
       "array([[<AxesSubplot:title={'center':'Length'}>,\n",
       "        <AxesSubplot:title={'center':'Diameter'}>,\n",
       "        <AxesSubplot:title={'center':'Height'}>],\n",
       "       [<AxesSubplot:title={'center':'Whole weight'}>,\n",
       "        <AxesSubplot:title={'center':'Shucked weight'}>,\n",
       "        <AxesSubplot:title={'center':'Viscera weight'}>],\n",
       "       [<AxesSubplot:title={'center':'Shell weight'}>,\n",
       "        <AxesSubplot:title={'center':'Age'}>, <AxesSubplot:>]],\n",
       "      dtype=object)"
      ]
     },
     "execution_count": 11,
     "metadata": {},
     "output_type": "execute_result"
    },
    {
     "data": {
      "image/png": "[encoded data removed]",
      "text/plain": [
       "<Figure size 1152x720 with 9 Axes>"
      ]
     },
     "metadata": {
      "needs_background": "light"
     },
     "output_type": "display_data"
    }
   ],
   "source": [
    "df.hist(figsize=(16,10))"
   ]
  },
  {
   "cell_type": "markdown",
   "id": "799add13",
   "metadata": {},
   "source": [
    "Bi variate Analysis"
   ]
  },
  {
   "cell_type": "code",
   "execution_count": 12,
   "id": "dfc86848",
   "metadata": {},
   "outputs": [
    {
     "data": {
      "text/plain": [
       "<AxesSubplot:xlabel='Age', ylabel='count'>"
      ]
     },
     "execution_count": 12,
     "metadata": {},
     "output_type": "execute_result"
    },
    {
     "data": {
      "image/png": "[encoded data removed]",
      "text/plain": [
       "<Figure size 864x504 with 1 Axes>"
      ]
     },
     "metadata": {
      "needs_background": "light"
     },
     "output_type": "display_data"
    }
   ],
   "source": [
    "plt.figure(figsize=(12,7))\n",
    "sns.countplot(data=df,x='Age',hue='Sex')"
   ]
  },
  {
   "cell_type": "code",
   "execution_count": 13,
   "id": "799d662d",
   "metadata": {},
   "outputs": [
    {
     "data": {
      "text/plain": [
       "<AxesSubplot:xlabel='Viscera weight', ylabel='Age'>"
      ]
     },
     "execution_count": 13,
     "metadata": {},
     "output_type": "execute_result"
    },
    {
     "data": {
      "image/png": "[encoded data removed]",
      "text/plain": [
       "<Figure size 1152x720 with 6 Axes>"
      ]
     },
     "metadata": {
      "needs_background": "light"
     },
     "output_type": "display_data"
    }
   ],
   "source": [
    "plt.figure(figsize=(16,10))\n",
    "plt.subplot(2,3,1)\n",
    "sns.scatterplot(df.Length,df.Age)\n",
    "plt.subplot(2,3,2)\n",
    "sns.scatterplot(df.Diameter,df.Age)\n",
    "plt.subplot(2,3,3)\n",
    "sns.scatterplot(df.Height,df.Age)\n",
    "plt.subplot(2,3,4)\n",
    "sns.scatterplot(df['Whole weight'],df.Age)\n",
    "plt.subplot(2,3,5)\n",
    "sns.scatterplot(df['Shucked weight'],df.Age)\n",
    "plt.subplot(2,3,6)\n",
    "sns.scatterplot(df['Viscera weight'],df.Age)"
   ]
  },
  {
   "cell_type": "markdown",
   "id": "99b1c23c",
   "metadata": {},
   "source": [
    "Multi variate Analysis"
   ]
  },
  {
   "cell_type": "code",
   "execution_count": 15,
   "id": "a4c27aa7",
   "metadata": {},
   "outputs": [
    {
     "data": {
      "text/plain": [
       "<AxesSubplot:>"
      ]
     },
     "execution_count": 15,
     "metadata": {},
     "output_type": "execute_result"
    },
    {
     "data": {
      "image/png": "[encoded data removed]",
      "text/plain": [
       "<Figure size 432x288 with 2 Axes>"
      ]
     },
     "metadata": {
      "needs_background": "light"
     },
     "output_type": "display_data"
    }
   ],
   "source": [
    "sns.heatmap(df.corr(),annot=True)"
   ]
  },
  {
   "cell_type": "markdown",
   "id": "6aa9d32a",
   "metadata": {},
   "source": [
    "# Descriptive Analysis"
   ]
  },
  {
   "cell_type": "code",
   "execution_count": 16,
   "id": "62a6306d",
   "metadata": {},
   "outputs": [
    {
     "data": {
      "text/html": [
       "<div>\n",
       "<style scoped>\n",
       "    .dataframe tbody tr th:only-of-type {\n",
       "        vertical-align: middle;\n",
       "    }\n",
       "\n",
       "    .dataframe tbody tr th {\n",
       "        vertical-align: top;\n",
       "    }\n",
       "\n",
       "    .dataframe thead th {\n",
       "        text-align: right;\n",
       "    }\n",
       "</style>\n",
       "<table border=\"1\" class=\"dataframe\">\n",
       "  <thead>\n",
       "    <tr style=\"text-align: right;\">\n",
       "      <th></th>\n",
       "      <th>Length</th>\n",
       "      <th>Diameter</th>\n",
       "      <th>Height</th>\n",
       "      <th>Whole weight</th>\n",
       "      <th>Shucked weight</th>\n",
       "      <th>Viscera weight</th>\n",
       "      <th>Shell weight</th>\n",
       "      <th>Age</th>\n",
       "    </tr>\n",
       "  </thead>\n",
       "  <tbody>\n",
       "    <tr>\n",
       "      <th>count</th>\n",
       "      <td>4177.000000</td>\n",
       "      <td>4177.000000</td>\n",
       "      <td>4177.000000</td>\n",
       "      <td>4177.000000</td>\n",
       "      <td>4177.000000</td>\n",
       "      <td>4177.000000</td>\n",
       "      <td>4177.000000</td>\n",
       "      <td>4177.000000</td>\n",
       "    </tr>\n",
       "    <tr>\n",
       "      <th>mean</th>\n",
       "      <td>0.523992</td>\n",
       "      <td>0.407881</td>\n",
       "      <td>0.139516</td>\n",
       "      <td>0.828742</td>\n",
       "      <td>0.359367</td>\n",
       "      <td>0.180594</td>\n",
       "      <td>0.238831</td>\n",
       "      <td>11.433684</td>\n",
       "    </tr>\n",
       "    <tr>\n",
       "      <th>std</th>\n",
       "      <td>0.120093</td>\n",
       "      <td>0.099240</td>\n",
       "      <td>0.041827</td>\n",
       "      <td>0.490389</td>\n",
       "      <td>0.221963</td>\n",
       "      <td>0.109614</td>\n",
       "      <td>0.139203</td>\n",
       "      <td>3.224169</td>\n",
       "    </tr>\n",
       "    <tr>\n",
       "      <th>min</th>\n",
       "      <td>0.075000</td>\n",
       "      <td>0.055000</td>\n",
       "      <td>0.000000</td>\n",
       "      <td>0.002000</td>\n",
       "      <td>0.001000</td>\n",
       "      <td>0.000500</td>\n",
       "      <td>0.001500</td>\n",
       "      <td>2.500000</td>\n",
       "    </tr>\n",
       "    <tr>\n",
       "      <th>25%</th>\n",
       "      <td>0.450000</td>\n",
       "      <td>0.350000</td>\n",
       "      <td>0.115000</td>\n",
       "      <td>0.441500</td>\n",
       "      <td>0.186000</td>\n",
       "      <td>0.093500</td>\n",
       "      <td>0.130000</td>\n",
       "      <td>9.500000</td>\n",
       "    </tr>\n",
       "    <tr>\n",
       "      <th>50%</th>\n",
       "      <td>0.545000</td>\n",
       "      <td>0.425000</td>\n",
       "      <td>0.140000</td>\n",
       "      <td>0.799500</td>\n",
       "      <td>0.336000</td>\n",
       "      <td>0.171000</td>\n",
       "      <td>0.234000</td>\n",
       "      <td>10.500000</td>\n",
       "    </tr>\n",
       "    <tr>\n",
       "      <th>75%</th>\n",
       "      <td>0.615000</td>\n",
       "      <td>0.480000</td>\n",
       "      <td>0.165000</td>\n",
       "      <td>1.153000</td>\n",
       "      <td>0.502000</td>\n",
       "      <td>0.253000</td>\n",
       "      <td>0.329000</td>\n",
       "      <td>12.500000</td>\n",
       "    </tr>\n",
       "    <tr>\n",
       "      <th>max</th>\n",
       "      <td>0.815000</td>\n",
       "      <td>0.650000</td>\n",
       "      <td>1.130000</td>\n",
       "      <td>2.825500</td>\n",
       "      <td>1.488000</td>\n",
       "      <td>0.760000</td>\n",
       "      <td>1.005000</td>\n",
       "      <td>30.500000</td>\n",
       "    </tr>\n",
       "  </tbody>\n",
       "</table>\n",
       "</div>"
      ],
      "text/plain": [
       "            Length     Diameter       Height  Whole weight  Shucked weight  \\\n",
       "count  4177.000000  4177.000000  4177.000000   4177.000000     4177.000000   \n",
       "mean      0.523992     0.407881     0.139516      0.828742        0.359367   \n",
       "std       0.120093     0.099240     0.041827      0.490389        0.221963   \n",
       "min       0.075000     0.055000     0.000000      0.002000        0.001000   \n",
       "25%       0.450000     0.350000     0.115000      0.441500        0.186000   \n",
       "50%       0.545000     0.425000     0.140000      0.799500        0.336000   \n",
       "75%       0.615000     0.480000     0.165000      1.153000        0.502000   \n",
       "max       0.815000     0.650000     1.130000      2.825500        1.488000   \n",
       "\n",
       "       Viscera weight  Shell weight          Age  \n",
       "count     4177.000000   4177.000000  4177.000000  \n",
       "mean         0.180594      0.238831    11.433684  \n",
       "std          0.109614      0.139203     3.224169  \n",
       "min          0.000500      0.001500     2.500000  \n",
       "25%          0.093500      0.130000     9.500000  \n",
       "50%          0.171000      0.234000    10.500000  \n",
       "75%          0.253000      0.329000    12.500000  \n",
       "max          0.760000      1.005000    30.500000  "
      ]
     },
     "execution_count": 16,
     "metadata": {},
     "output_type": "execute_result"
    }
   ],
   "source": [
    "df.describe()"
   ]
  },
  {
   "cell_type": "markdown",
   "id": "b242776a",
   "metadata": {},
   "source": [
    "# Handle null values"
   ]
  },
  {
   "cell_type": "code",
   "execution_count": 17,
   "id": "8490d9fb",
   "metadata": {},
   "outputs": [
    {
     "data": {
      "text/plain": [
       "Sex               0\n",
       "Length            0\n",
       "Diameter          0\n",
       "Height            0\n",
       "Whole weight      0\n",
       "Shucked weight    0\n",
       "Viscera weight    0\n",
       "Shell weight      0\n",
       "Age               0\n",
       "dtype: int64"
      ]
     },
     "execution_count": 17,
     "metadata": {},
     "output_type": "execute_result"
    }
   ],
   "source": [
    "df.isna().sum()"
   ]
  },
  {
   "cell_type": "markdown",
   "id": "66925ede",
   "metadata": {},
   "source": [
    "# Find and replace the outliers"
   ]
  },
  {
   "cell_type": "code",
   "execution_count": 18,
   "id": "66d9cadf",
   "metadata": {},
   "outputs": [
    {
     "data": {
      "text/plain": [
       "<AxesSubplot:xlabel='Age'>"
      ]
     },
     "execution_count": 18,
     "metadata": {},
     "output_type": "execute_result"
    },
    {
     "data": {
      "image/png": "[encoded data removed]",
      "text/plain": [
       "<Figure size 1152x1440 with 8 Axes>"
      ]
     },
     "metadata": {
      "needs_background": "light"
     },
     "output_type": "display_data"
    }
   ],
   "source": [
    "plt.figure(figsize=(16,20))\n",
    "sns.set_theme(font_scale=1.5)\n",
    "plt.subplot(4,2,1)\n",
    "sns.boxplot(df.Length)\n",
    "plt.subplot(4,2,2)\n",
    "sns.boxplot(df.Diameter)\n",
    "plt.subplot(4,2,3)\n",
    "sns.boxplot(df.Height)\n",
    "plt.subplot(4,2,4)\n",
    "sns.boxplot(df['Whole weight'])\n",
    "plt.subplot(4,2,5)\n",
    "sns.boxplot(df['Shucked weight'])\n",
    "plt.subplot(4,2,6)\n",
    "sns.boxplot(df['Viscera weight'])\n",
    "plt.subplot(4,2,7)\n",
    "sns.boxplot(df['Shell weight'])\n",
    "plt.subplot(4,2,8)\n",
    "sns.boxplot(df.Age)"
   ]
  },
  {
   "cell_type": "code",
   "execution_count": 19,
   "id": "ec71f43d",
   "metadata": {},
   "outputs": [
    {
     "data": {
      "text/plain": [
       "<AxesSubplot:xlabel='Length'>"
      ]
     },
     "execution_count": 19,
     "metadata": {},
     "output_type": "execute_result"
    },
    {
     "data": {
      "image/png": "[encoded data removed]",
      "text/plain": [
       "<Figure size 432x288 with 1 Axes>"
      ]
     },
     "metadata": {},
     "output_type": "display_data"
    }
   ],
   "source": [
    "p_length_2=df.Length.quantile(0.02)\n",
    "df.Length=np.where(df.Length <= p_length_2,df.Length.median(),df.Length)\n",
    "sns.boxplot(df.Length)"
   ]
  },
  {
   "cell_type": "code",
   "execution_count": 20,
   "id": "d5f8f923",
   "metadata": {},
   "outputs": [
    {
     "data": {
      "text/plain": [
       "<AxesSubplot:xlabel='Diameter'>"
      ]
     },
     "execution_count": 20,
     "metadata": {},
     "output_type": "execute_result"
    },
    {
     "data": {
      "image/png": "[encoded data removed]",
      "text/plain": [
       "<Figure size 432x288 with 1 Axes>"
      ]
     },
     "metadata": {},
     "output_type": "display_data"
    }
   ],
   "source": [
    "p_diameter_1=df.Diameter.quantile(0.02)\n",
    "df.Diameter=np.where(df.Diameter < p_diameter_1,df.Diameter.median(),df.Diameter)\n",
    "sns.boxplot(df.Diameter)"
   ]
  },
  {
   "cell_type": "code",
   "execution_count": 21,
   "id": "df61a06c",
   "metadata": {},
   "outputs": [
    {
     "data": {
      "text/plain": [
       "<AxesSubplot:xlabel='Height'>"
      ]
     },
     "execution_count": 21,
     "metadata": {},
     "output_type": "execute_result"
    },
    {
     "data": {
      "image/png": "[encoded data removed]",
      "text/plain": [
       "<Figure size 432x288 with 1 Axes>"
      ]
     },
     "metadata": {},
     "output_type": "display_data"
    }
   ],
   "source": [
    "p_height_1=df.Height.quantile(0.01)\n",
    "p_height_99=df.Height.quantile(0.99)\n",
    "df.Height=np.where(df.Height < p_height_1 ,df.Height.median(),df.Height)\n",
    "df.Height=np.where(df.Height > p_height_99 ,df.Height.median(),df.Height)\n",
    "sns.boxplot(df.Height)"
   ]
  },
  {
   "cell_type": "code",
   "execution_count": 24,
   "id": "d1a61ef7",
   "metadata": {},
   "outputs": [
    {
     "data": {
      "text/plain": [
       "<AxesSubplot:xlabel='Whole weight'>"
      ]
     },
     "execution_count": 24,
     "metadata": {},
     "output_type": "execute_result"
    },
    {
     "data": {
      "image/png": "[encoded data removed]",
      "text/plain": [
       "<Figure size 432x288 with 1 Axes>"
      ]
     },
     "metadata": {},
     "output_type": "display_data"
    }
   ],
   "source": [
    "p_Wweight_99=df['Whole weight'].quantile(0.99)\n",
    "df['Whole weight']=np.where(df['Whole weight'] > p_Wweight_99,df['Whole weight'].median(),df['Whole weight'])\n",
    "sns.boxplot(df['Whole weight'])"
   ]
  },
  {
   "cell_type": "code",
   "execution_count": 25,
   "id": "84a67369",
   "metadata": {},
   "outputs": [
    {
     "data": {
      "text/plain": [
       "<AxesSubplot:xlabel='Shucked weight'>"
      ]
     },
     "execution_count": 25,
     "metadata": {},
     "output_type": "execute_result"
    },
    {
     "data": {
      "image/png": "[encoded data removed]",
      "text/plain": [
       "<Figure size 432x288 with 1 Axes>"
      ]
     },
     "metadata": {},
     "output_type": "display_data"
    }
   ],
   "source": [
    "p_Shuc_weight_99=df['Shucked weight'].quantile(0.98)\n",
    "df['Shucked weight']=np.where(df['Shucked weight'] > p_Shuc_weight_99,df['Shucked weight'].median(),df['Shucked weight'])\n",
    "sns.boxplot(df['Shucked weight'])"
   ]
  },
  {
   "cell_type": "code",
   "execution_count": 26,
   "id": "e52618ad",
   "metadata": {},
   "outputs": [
    {
     "data": {
      "text/plain": [
       "<AxesSubplot:xlabel='Viscera weight'>"
      ]
     },
     "execution_count": 26,
     "metadata": {},
     "output_type": "execute_result"
    },
    {
     "data": {
      "image/png": "[encoded data removed]",
      "text/plain": [
       "<Figure size 432x288 with 1 Axes>"
      ]
     },
     "metadata": {},
     "output_type": "display_data"
    }
   ],
   "source": [
    "p_Vweight_99=df['Viscera weight'].quantile(0.99)\n",
    "df['Viscera weight']=np.where(df['Viscera weight'] > p_Vweight_99,df['Viscera weight'].median(),df['Viscera weight'])\n",
    "sns.boxplot(df['Viscera weight'])"
   ]
  },
  {
   "cell_type": "code",
   "execution_count": 27,
   "id": "552b52d5",
   "metadata": {},
   "outputs": [
    {
     "data": {
      "text/plain": [
       "<AxesSubplot:xlabel='Shell weight'>"
      ]
     },
     "execution_count": 27,
     "metadata": {},
     "output_type": "execute_result"
    },
    {
     "data": {
      "image/png": "[encoded data removed]",
      "text/plain": [
       "<Figure size 432x288 with 1 Axes>"
      ]
     },
     "metadata": {},
     "output_type": "display_data"
    }
   ],
   "source": [
    "p_Shell_weigth_99=df['Shell weight'].quantile(0.98)\n",
    "df['Shell weight']=np.where(df['Shell weight'] > p_Shell_weigth_99,df['Shell weight'].median(),df['Shell weight'])\n",
    "sns.boxplot(df['Shell weight'])"
   ]
  },
  {
   "cell_type": "markdown",
   "id": "c8a67d70",
   "metadata": {},
   "source": [
    "# Check for categorical columns and perform encoding"
   ]
  },
  {
   "cell_type": "code",
   "execution_count": 29,
   "id": "4c46e664",
   "metadata": {},
   "outputs": [
    {
     "data": {
      "text/html": [
       "<div>\n",
       "<style scoped>\n",
       "    .dataframe tbody tr th:only-of-type {\n",
       "        vertical-align: middle;\n",
       "    }\n",
       "\n",
       "    .dataframe tbody tr th {\n",
       "        vertical-align: top;\n",
       "    }\n",
       "\n",
       "    .dataframe thead th {\n",
       "        text-align: right;\n",
       "    }\n",
       "</style>\n",
       "<table border=\"1\" class=\"dataframe\">\n",
       "  <thead>\n",
       "    <tr style=\"text-align: right;\">\n",
       "      <th></th>\n",
       "      <th>Sex</th>\n",
       "      <th>Length</th>\n",
       "      <th>Diameter</th>\n",
       "      <th>Height</th>\n",
       "      <th>Whole weight</th>\n",
       "      <th>Shucked weight</th>\n",
       "      <th>Viscera weight</th>\n",
       "      <th>Shell weight</th>\n",
       "      <th>Age</th>\n",
       "    </tr>\n",
       "  </thead>\n",
       "  <tbody>\n",
       "    <tr>\n",
       "      <th>0</th>\n",
       "      <td>M</td>\n",
       "      <td>0.455</td>\n",
       "      <td>0.365</td>\n",
       "      <td>0.095</td>\n",
       "      <td>0.5140</td>\n",
       "      <td>0.2245</td>\n",
       "      <td>0.1010</td>\n",
       "      <td>0.150</td>\n",
       "      <td>16.5</td>\n",
       "    </tr>\n",
       "    <tr>\n",
       "      <th>1</th>\n",
       "      <td>M</td>\n",
       "      <td>0.350</td>\n",
       "      <td>0.265</td>\n",
       "      <td>0.090</td>\n",
       "      <td>0.2255</td>\n",
       "      <td>0.0995</td>\n",
       "      <td>0.0485</td>\n",
       "      <td>0.070</td>\n",
       "      <td>8.5</td>\n",
       "    </tr>\n",
       "    <tr>\n",
       "      <th>2</th>\n",
       "      <td>F</td>\n",
       "      <td>0.530</td>\n",
       "      <td>0.420</td>\n",
       "      <td>0.135</td>\n",
       "      <td>0.6770</td>\n",
       "      <td>0.2565</td>\n",
       "      <td>0.1415</td>\n",
       "      <td>0.210</td>\n",
       "      <td>10.5</td>\n",
       "    </tr>\n",
       "    <tr>\n",
       "      <th>3</th>\n",
       "      <td>M</td>\n",
       "      <td>0.440</td>\n",
       "      <td>0.365</td>\n",
       "      <td>0.125</td>\n",
       "      <td>0.5160</td>\n",
       "      <td>0.2155</td>\n",
       "      <td>0.1140</td>\n",
       "      <td>0.155</td>\n",
       "      <td>11.5</td>\n",
       "    </tr>\n",
       "    <tr>\n",
       "      <th>4</th>\n",
       "      <td>I</td>\n",
       "      <td>0.330</td>\n",
       "      <td>0.255</td>\n",
       "      <td>0.080</td>\n",
       "      <td>0.2050</td>\n",
       "      <td>0.0895</td>\n",
       "      <td>0.0395</td>\n",
       "      <td>0.055</td>\n",
       "      <td>8.5</td>\n",
       "    </tr>\n",
       "  </tbody>\n",
       "</table>\n",
       "</div>"
      ],
      "text/plain": [
       "  Sex  Length  Diameter  Height  Whole weight  Shucked weight  Viscera weight  \\\n",
       "0   M   0.455     0.365   0.095        0.5140          0.2245          0.1010   \n",
       "1   M   0.350     0.265   0.090        0.2255          0.0995          0.0485   \n",
       "2   F   0.530     0.420   0.135        0.6770          0.2565          0.1415   \n",
       "3   M   0.440     0.365   0.125        0.5160          0.2155          0.1140   \n",
       "4   I   0.330     0.255   0.080        0.2050          0.0895          0.0395   \n",
       "\n",
       "   Shell weight   Age  \n",
       "0         0.150  16.5  \n",
       "1         0.070   8.5  \n",
       "2         0.210  10.5  \n",
       "3         0.155  11.5  \n",
       "4         0.055   8.5  "
      ]
     },
     "execution_count": 29,
     "metadata": {},
     "output_type": "execute_result"
    }
   ],
   "source": [
    "df.head()"
   ]
  },
  {
   "cell_type": "code",
   "execution_count": 30,
   "id": "f7d28d22",
   "metadata": {},
   "outputs": [],
   "source": [
    "from sklearn.preprocessing import LabelEncoder\n",
    "l_encode=LabelEncoder()\n",
    "df.Sex=l_encode.fit_transform(df.Sex)"
   ]
  },
  {
   "cell_type": "code",
   "execution_count": 31,
   "id": "21268249",
   "metadata": {},
   "outputs": [
    {
     "data": {
      "text/html": [
       "<div>\n",
       "<style scoped>\n",
       "    .dataframe tbody tr th:only-of-type {\n",
       "        vertical-align: middle;\n",
       "    }\n",
       "\n",
       "    .dataframe tbody tr th {\n",
       "        vertical-align: top;\n",
       "    }\n",
       "\n",
       "    .dataframe thead th {\n",
       "        text-align: right;\n",
       "    }\n",
       "</style>\n",
       "<table border=\"1\" class=\"dataframe\">\n",
       "  <thead>\n",
       "    <tr style=\"text-align: right;\">\n",
       "      <th></th>\n",
       "      <th>Sex</th>\n",
       "      <th>Length</th>\n",
       "      <th>Diameter</th>\n",
       "      <th>Height</th>\n",
       "      <th>Whole weight</th>\n",
       "      <th>Shucked weight</th>\n",
       "      <th>Viscera weight</th>\n",
       "      <th>Shell weight</th>\n",
       "      <th>Age</th>\n",
       "    </tr>\n",
       "  </thead>\n",
       "  <tbody>\n",
       "    <tr>\n",
       "      <th>0</th>\n",
       "      <td>2</td>\n",
       "      <td>0.455</td>\n",
       "      <td>0.365</td>\n",
       "      <td>0.095</td>\n",
       "      <td>0.5140</td>\n",
       "      <td>0.2245</td>\n",
       "      <td>0.1010</td>\n",
       "      <td>0.150</td>\n",
       "      <td>16.5</td>\n",
       "    </tr>\n",
       "    <tr>\n",
       "      <th>1</th>\n",
       "      <td>2</td>\n",
       "      <td>0.350</td>\n",
       "      <td>0.265</td>\n",
       "      <td>0.090</td>\n",
       "      <td>0.2255</td>\n",
       "      <td>0.0995</td>\n",
       "      <td>0.0485</td>\n",
       "      <td>0.070</td>\n",
       "      <td>8.5</td>\n",
       "    </tr>\n",
       "    <tr>\n",
       "      <th>2</th>\n",
       "      <td>0</td>\n",
       "      <td>0.530</td>\n",
       "      <td>0.420</td>\n",
       "      <td>0.135</td>\n",
       "      <td>0.6770</td>\n",
       "      <td>0.2565</td>\n",
       "      <td>0.1415</td>\n",
       "      <td>0.210</td>\n",
       "      <td>10.5</td>\n",
       "    </tr>\n",
       "    <tr>\n",
       "      <th>3</th>\n",
       "      <td>2</td>\n",
       "      <td>0.440</td>\n",
       "      <td>0.365</td>\n",
       "      <td>0.125</td>\n",
       "      <td>0.5160</td>\n",
       "      <td>0.2155</td>\n",
       "      <td>0.1140</td>\n",
       "      <td>0.155</td>\n",
       "      <td>11.5</td>\n",
       "    </tr>\n",
       "    <tr>\n",
       "      <th>4</th>\n",
       "      <td>1</td>\n",
       "      <td>0.330</td>\n",
       "      <td>0.255</td>\n",
       "      <td>0.080</td>\n",
       "      <td>0.2050</td>\n",
       "      <td>0.0895</td>\n",
       "      <td>0.0395</td>\n",
       "      <td>0.055</td>\n",
       "      <td>8.5</td>\n",
       "    </tr>\n",
       "  </tbody>\n",
       "</table>\n",
       "</div>"
      ],
      "text/plain": [
       "   Sex  Length  Diameter  Height  Whole weight  Shucked weight  \\\n",
       "0    2   0.455     0.365   0.095        0.5140          0.2245   \n",
       "1    2   0.350     0.265   0.090        0.2255          0.0995   \n",
       "2    0   0.530     0.420   0.135        0.6770          0.2565   \n",
       "3    2   0.440     0.365   0.125        0.5160          0.2155   \n",
       "4    1   0.330     0.255   0.080        0.2050          0.0895   \n",
       "\n",
       "   Viscera weight  Shell weight   Age  \n",
       "0          0.1010         0.150  16.5  \n",
       "1          0.0485         0.070   8.5  \n",
       "2          0.1415         0.210  10.5  \n",
       "3          0.1140         0.155  11.5  \n",
       "4          0.0395         0.055   8.5  "
      ]
     },
     "execution_count": 31,
     "metadata": {},
     "output_type": "execute_result"
    }
   ],
   "source": [
    "df.head()"
   ]
  },
  {
   "cell_type": "markdown",
   "id": "699298dc",
   "metadata": {},
   "source": [
    "# Split the data into dependent an independent variables"
   ]
  },
  {
   "cell_type": "code",
   "execution_count": 32,
   "id": "0620438e",
   "metadata": {},
   "outputs": [],
   "source": [
    "Y=df.Age\n",
    "X=df.drop(columns=['Age'],axis=1)"
   ]
  },
  {
   "cell_type": "code",
   "execution_count": 33,
   "id": "486b01a6",
   "metadata": {},
   "outputs": [
    {
     "data": {
      "text/plain": [
       "0       16.5\n",
       "1        8.5\n",
       "2       10.5\n",
       "3       11.5\n",
       "4        8.5\n",
       "        ... \n",
       "4172    12.5\n",
       "4173    11.5\n",
       "4174    10.5\n",
       "4175    11.5\n",
       "4176    13.5\n",
       "Name: Age, Length: 4177, dtype: float64"
      ]
     },
     "execution_count": 33,
     "metadata": {},
     "output_type": "execute_result"
    }
   ],
   "source": [
    "Y"
   ]
  },
  {
   "cell_type": "code",
   "execution_count": 34,
   "id": "f76cc8e6",
   "metadata": {},
   "outputs": [
    {
     "data": {
      "text/html": [
       "<div>\n",
       "<style scoped>\n",
       "    .dataframe tbody tr th:only-of-type {\n",
       "        vertical-align: middle;\n",
       "    }\n",
       "\n",
       "    .dataframe tbody tr th {\n",
       "        vertical-align: top;\n",
       "    }\n",
       "\n",
       "    .dataframe thead th {\n",
       "        text-align: right;\n",
       "    }\n",
       "</style>\n",
       "<table border=\"1\" class=\"dataframe\">\n",
       "  <thead>\n",
       "    <tr style=\"text-align: right;\">\n",
       "      <th></th>\n",
       "      <th>Sex</th>\n",
       "      <th>Length</th>\n",
       "      <th>Diameter</th>\n",
       "      <th>Height</th>\n",
       "      <th>Whole weight</th>\n",
       "      <th>Shucked weight</th>\n",
       "      <th>Viscera weight</th>\n",
       "      <th>Shell weight</th>\n",
       "    </tr>\n",
       "  </thead>\n",
       "  <tbody>\n",
       "    <tr>\n",
       "      <th>0</th>\n",
       "      <td>2</td>\n",
       "      <td>0.455</td>\n",
       "      <td>0.365</td>\n",
       "      <td>0.095</td>\n",
       "      <td>0.5140</td>\n",
       "      <td>0.2245</td>\n",
       "      <td>0.1010</td>\n",
       "      <td>0.1500</td>\n",
       "    </tr>\n",
       "    <tr>\n",
       "      <th>1</th>\n",
       "      <td>2</td>\n",
       "      <td>0.350</td>\n",
       "      <td>0.265</td>\n",
       "      <td>0.090</td>\n",
       "      <td>0.2255</td>\n",
       "      <td>0.0995</td>\n",
       "      <td>0.0485</td>\n",
       "      <td>0.0700</td>\n",
       "    </tr>\n",
       "    <tr>\n",
       "      <th>2</th>\n",
       "      <td>0</td>\n",
       "      <td>0.530</td>\n",
       "      <td>0.420</td>\n",
       "      <td>0.135</td>\n",
       "      <td>0.6770</td>\n",
       "      <td>0.2565</td>\n",
       "      <td>0.1415</td>\n",
       "      <td>0.2100</td>\n",
       "    </tr>\n",
       "    <tr>\n",
       "      <th>3</th>\n",
       "      <td>2</td>\n",
       "      <td>0.440</td>\n",
       "      <td>0.365</td>\n",
       "      <td>0.125</td>\n",
       "      <td>0.5160</td>\n",
       "      <td>0.2155</td>\n",
       "      <td>0.1140</td>\n",
       "      <td>0.1550</td>\n",
       "    </tr>\n",
       "    <tr>\n",
       "      <th>4</th>\n",
       "      <td>1</td>\n",
       "      <td>0.330</td>\n",
       "      <td>0.255</td>\n",
       "      <td>0.080</td>\n",
       "      <td>0.2050</td>\n",
       "      <td>0.0895</td>\n",
       "      <td>0.0395</td>\n",
       "      <td>0.0550</td>\n",
       "    </tr>\n",
       "    <tr>\n",
       "      <th>...</th>\n",
       "      <td>...</td>\n",
       "      <td>...</td>\n",
       "      <td>...</td>\n",
       "      <td>...</td>\n",
       "      <td>...</td>\n",
       "      <td>...</td>\n",
       "      <td>...</td>\n",
       "      <td>...</td>\n",
       "    </tr>\n",
       "    <tr>\n",
       "      <th>4172</th>\n",
       "      <td>0</td>\n",
       "      <td>0.565</td>\n",
       "      <td>0.450</td>\n",
       "      <td>0.165</td>\n",
       "      <td>0.8870</td>\n",
       "      <td>0.3700</td>\n",
       "      <td>0.2390</td>\n",
       "      <td>0.2490</td>\n",
       "    </tr>\n",
       "    <tr>\n",
       "      <th>4173</th>\n",
       "      <td>2</td>\n",
       "      <td>0.590</td>\n",
       "      <td>0.440</td>\n",
       "      <td>0.135</td>\n",
       "      <td>0.9660</td>\n",
       "      <td>0.4390</td>\n",
       "      <td>0.2145</td>\n",
       "      <td>0.2605</td>\n",
       "    </tr>\n",
       "    <tr>\n",
       "      <th>4174</th>\n",
       "      <td>2</td>\n",
       "      <td>0.600</td>\n",
       "      <td>0.475</td>\n",
       "      <td>0.205</td>\n",
       "      <td>1.1760</td>\n",
       "      <td>0.5255</td>\n",
       "      <td>0.2875</td>\n",
       "      <td>0.3080</td>\n",
       "    </tr>\n",
       "    <tr>\n",
       "      <th>4175</th>\n",
       "      <td>0</td>\n",
       "      <td>0.625</td>\n",
       "      <td>0.485</td>\n",
       "      <td>0.150</td>\n",
       "      <td>1.0945</td>\n",
       "      <td>0.5310</td>\n",
       "      <td>0.2610</td>\n",
       "      <td>0.2960</td>\n",
       "    </tr>\n",
       "    <tr>\n",
       "      <th>4176</th>\n",
       "      <td>2</td>\n",
       "      <td>0.710</td>\n",
       "      <td>0.555</td>\n",
       "      <td>0.195</td>\n",
       "      <td>1.9485</td>\n",
       "      <td>0.3360</td>\n",
       "      <td>0.3765</td>\n",
       "      <td>0.4950</td>\n",
       "    </tr>\n",
       "  </tbody>\n",
       "</table>\n",
       "<p>4177 rows × 8 columns</p>\n",
       "</div>"
      ],
      "text/plain": [
       "      Sex  Length  Diameter  Height  Whole weight  Shucked weight  \\\n",
       "0       2   0.455     0.365   0.095        0.5140          0.2245   \n",
       "1       2   0.350     0.265   0.090        0.2255          0.0995   \n",
       "2       0   0.530     0.420   0.135        0.6770          0.2565   \n",
       "3       2   0.440     0.365   0.125        0.5160          0.2155   \n",
       "4       1   0.330     0.255   0.080        0.2050          0.0895   \n",
       "...   ...     ...       ...     ...           ...             ...   \n",
       "4172    0   0.565     0.450   0.165        0.8870          0.3700   \n",
       "4173    2   0.590     0.440   0.135        0.9660          0.4390   \n",
       "4174    2   0.600     0.475   0.205        1.1760          0.5255   \n",
       "4175    0   0.625     0.485   0.150        1.0945          0.5310   \n",
       "4176    2   0.710     0.555   0.195        1.9485          0.3360   \n",
       "\n",
       "      Viscera weight  Shell weight  \n",
       "0             0.1010        0.1500  \n",
       "1             0.0485        0.0700  \n",
       "2             0.1415        0.2100  \n",
       "3             0.1140        0.1550  \n",
       "4             0.0395        0.0550  \n",
       "...              ...           ...  \n",
       "4172          0.2390        0.2490  \n",
       "4173          0.2145        0.2605  \n",
       "4174          0.2875        0.3080  \n",
       "4175          0.2610        0.2960  \n",
       "4176          0.3765        0.4950  \n",
       "\n",
       "[4177 rows x 8 columns]"
      ]
     },
     "execution_count": 34,
     "metadata": {},
     "output_type": "execute_result"
    }
   ],
   "source": [
    "X"
   ]
  },
  {
   "cell_type": "markdown",
   "id": "8a146999",
   "metadata": {},
   "source": [
    "# Scale the independent variables"
   ]
  },
  {
   "cell_type": "code",
   "execution_count": 35,
   "id": "185c04e5",
   "metadata": {},
   "outputs": [
    {
     "data": {
      "text/html": [
       "<div>\n",
       "<style scoped>\n",
       "    .dataframe tbody tr th:only-of-type {\n",
       "        vertical-align: middle;\n",
       "    }\n",
       "\n",
       "    .dataframe tbody tr th {\n",
       "        vertical-align: top;\n",
       "    }\n",
       "\n",
       "    .dataframe thead th {\n",
       "        text-align: right;\n",
       "    }\n",
       "</style>\n",
       "<table border=\"1\" class=\"dataframe\">\n",
       "  <thead>\n",
       "    <tr style=\"text-align: right;\">\n",
       "      <th></th>\n",
       "      <th>Sex</th>\n",
       "      <th>Length</th>\n",
       "      <th>Diameter</th>\n",
       "      <th>Height</th>\n",
       "      <th>Whole weight</th>\n",
       "      <th>Shucked weight</th>\n",
       "      <th>Viscera weight</th>\n",
       "      <th>Shell weight</th>\n",
       "    </tr>\n",
       "  </thead>\n",
       "  <tbody>\n",
       "    <tr>\n",
       "      <th>0</th>\n",
       "      <td>1.151980</td>\n",
       "      <td>-0.692304</td>\n",
       "      <td>-0.526732</td>\n",
       "      <td>-1.230869</td>\n",
       "      <td>-0.639022</td>\n",
       "      <td>-0.606834</td>\n",
       "      <td>-0.731555</td>\n",
       "      <td>-0.640298</td>\n",
       "    </tr>\n",
       "    <tr>\n",
       "      <th>1</th>\n",
       "      <td>1.151980</td>\n",
       "      <td>-1.646514</td>\n",
       "      <td>-1.616487</td>\n",
       "      <td>-1.369570</td>\n",
       "      <td>-1.282301</td>\n",
       "      <td>-1.234320</td>\n",
       "      <td>-1.236340</td>\n",
       "      <td>-1.276135</td>\n",
       "    </tr>\n",
       "    <tr>\n",
       "      <th>2</th>\n",
       "      <td>-1.280690</td>\n",
       "      <td>-0.010726</td>\n",
       "      <td>0.072633</td>\n",
       "      <td>-0.121267</td>\n",
       "      <td>-0.275575</td>\n",
       "      <td>-0.446198</td>\n",
       "      <td>-0.342150</td>\n",
       "      <td>-0.163421</td>\n",
       "    </tr>\n",
       "    <tr>\n",
       "      <th>3</th>\n",
       "      <td>1.151980</td>\n",
       "      <td>-0.828620</td>\n",
       "      <td>-0.526732</td>\n",
       "      <td>-0.398668</td>\n",
       "      <td>-0.634563</td>\n",
       "      <td>-0.652013</td>\n",
       "      <td>-0.606561</td>\n",
       "      <td>-0.600559</td>\n",
       "    </tr>\n",
       "    <tr>\n",
       "      <th>4</th>\n",
       "      <td>-0.064355</td>\n",
       "      <td>-1.828268</td>\n",
       "      <td>-1.725463</td>\n",
       "      <td>-1.646970</td>\n",
       "      <td>-1.328011</td>\n",
       "      <td>-1.284519</td>\n",
       "      <td>-1.322874</td>\n",
       "      <td>-1.395354</td>\n",
       "    </tr>\n",
       "    <tr>\n",
       "      <th>...</th>\n",
       "      <td>...</td>\n",
       "      <td>...</td>\n",
       "      <td>...</td>\n",
       "      <td>...</td>\n",
       "      <td>...</td>\n",
       "      <td>...</td>\n",
       "      <td>...</td>\n",
       "      <td>...</td>\n",
       "    </tr>\n",
       "    <tr>\n",
       "      <th>4172</th>\n",
       "      <td>-1.280690</td>\n",
       "      <td>0.307344</td>\n",
       "      <td>0.399559</td>\n",
       "      <td>0.710934</td>\n",
       "      <td>0.192670</td>\n",
       "      <td>0.123559</td>\n",
       "      <td>0.595307</td>\n",
       "      <td>0.146549</td>\n",
       "    </tr>\n",
       "    <tr>\n",
       "      <th>4173</th>\n",
       "      <td>1.151980</td>\n",
       "      <td>0.534537</td>\n",
       "      <td>0.290584</td>\n",
       "      <td>-0.121267</td>\n",
       "      <td>0.368820</td>\n",
       "      <td>0.469931</td>\n",
       "      <td>0.359741</td>\n",
       "      <td>0.237951</td>\n",
       "    </tr>\n",
       "    <tr>\n",
       "      <th>4174</th>\n",
       "      <td>1.151980</td>\n",
       "      <td>0.625414</td>\n",
       "      <td>0.671998</td>\n",
       "      <td>1.820537</td>\n",
       "      <td>0.837065</td>\n",
       "      <td>0.904152</td>\n",
       "      <td>1.061632</td>\n",
       "      <td>0.615478</td>\n",
       "    </tr>\n",
       "    <tr>\n",
       "      <th>4175</th>\n",
       "      <td>-1.280690</td>\n",
       "      <td>0.852607</td>\n",
       "      <td>0.780974</td>\n",
       "      <td>0.294834</td>\n",
       "      <td>0.655341</td>\n",
       "      <td>0.931761</td>\n",
       "      <td>0.806836</td>\n",
       "      <td>0.520103</td>\n",
       "    </tr>\n",
       "    <tr>\n",
       "      <th>4176</th>\n",
       "      <td>1.151980</td>\n",
       "      <td>1.625062</td>\n",
       "      <td>1.543802</td>\n",
       "      <td>1.543136</td>\n",
       "      <td>2.559537</td>\n",
       "      <td>-0.047117</td>\n",
       "      <td>1.917362</td>\n",
       "      <td>2.101746</td>\n",
       "    </tr>\n",
       "  </tbody>\n",
       "</table>\n",
       "<p>4177 rows × 8 columns</p>\n",
       "</div>"
      ],
      "text/plain": [
       "           Sex    Length  Diameter    Height  Whole weight  Shucked weight  \\\n",
       "0     1.151980 -0.692304 -0.526732 -1.230869     -0.639022       -0.606834   \n",
       "1     1.151980 -1.646514 -1.616487 -1.369570     -1.282301       -1.234320   \n",
       "2    -1.280690 -0.010726  0.072633 -0.121267     -0.275575       -0.446198   \n",
       "3     1.151980 -0.828620 -0.526732 -0.398668     -0.634563       -0.652013   \n",
       "4    -0.064355 -1.828268 -1.725463 -1.646970     -1.328011       -1.284519   \n",
       "...        ...       ...       ...       ...           ...             ...   \n",
       "4172 -1.280690  0.307344  0.399559  0.710934      0.192670        0.123559   \n",
       "4173  1.151980  0.534537  0.290584 -0.121267      0.368820        0.469931   \n",
       "4174  1.151980  0.625414  0.671998  1.820537      0.837065        0.904152   \n",
       "4175 -1.280690  0.852607  0.780974  0.294834      0.655341        0.931761   \n",
       "4176  1.151980  1.625062  1.543802  1.543136      2.559537       -0.047117   \n",
       "\n",
       "      Viscera weight  Shell weight  \n",
       "0          -0.731555     -0.640298  \n",
       "1          -1.236340     -1.276135  \n",
       "2          -0.342150     -0.163421  \n",
       "3          -0.606561     -0.600559  \n",
       "4          -1.322874     -1.395354  \n",
       "...              ...           ...  \n",
       "4172        0.595307      0.146549  \n",
       "4173        0.359741      0.237951  \n",
       "4174        1.061632      0.615478  \n",
       "4175        0.806836      0.520103  \n",
       "4176        1.917362      2.101746  \n",
       "\n",
       "[4177 rows x 8 columns]"
      ]
     },
     "execution_count": 35,
     "metadata": {},
     "output_type": "execute_result"
    }
   ],
   "source": [
    "from sklearn.preprocessing import scale\n",
    "scaled_X=pd.DataFrame(scale(X),columns=X.columns)\n",
    "scaled_X"
   ]
  },
  {
   "cell_type": "markdown",
   "id": "3ba14531",
   "metadata": {},
   "source": [
    "# Split the data into training and testing"
   ]
  },
  {
   "cell_type": "code",
   "execution_count": 36,
   "id": "b0764413",
   "metadata": {},
   "outputs": [],
   "source": [
    "from sklearn.model_selection import train_test_split\n",
    "X_train,X_test,Y_train,Y_test=train_test_split(scaled_X,Y,test_size=0.3,random_state=42)"
   ]
  },
  {
   "cell_type": "code",
   "execution_count": 37,
   "id": "7ac7a8cd",
   "metadata": {},
   "outputs": [
    {
     "name": "stdout",
     "output_type": "stream",
     "text": [
      "(2923, 8) (1254, 8) (2923,) (1254,)\n"
     ]
    }
   ],
   "source": [
    "print(X_train.shape,X_test.shape,Y_train.shape,Y_test.shape)"
   ]
  },
  {
   "cell_type": "code",
   "execution_count": 38,
   "id": "d452d921",
   "metadata": {},
   "outputs": [
    {
     "data": {
      "text/html": [
       "<div>\n",
       "<style scoped>\n",
       "    .dataframe tbody tr th:only-of-type {\n",
       "        vertical-align: middle;\n",
       "    }\n",
       "\n",
       "    .dataframe tbody tr th {\n",
       "        vertical-align: top;\n",
       "    }\n",
       "\n",
       "    .dataframe thead th {\n",
       "        text-align: right;\n",
       "    }\n",
       "</style>\n",
       "<table border=\"1\" class=\"dataframe\">\n",
       "  <thead>\n",
       "    <tr style=\"text-align: right;\">\n",
       "      <th></th>\n",
       "      <th>Sex</th>\n",
       "      <th>Length</th>\n",
       "      <th>Diameter</th>\n",
       "      <th>Height</th>\n",
       "      <th>Whole weight</th>\n",
       "      <th>Shucked weight</th>\n",
       "      <th>Viscera weight</th>\n",
       "      <th>Shell weight</th>\n",
       "    </tr>\n",
       "  </thead>\n",
       "  <tbody>\n",
       "    <tr>\n",
       "      <th>2830</th>\n",
       "      <td>-1.280690</td>\n",
       "      <td>-0.056165</td>\n",
       "      <td>0.181608</td>\n",
       "      <td>-0.121267</td>\n",
       "      <td>0.095677</td>\n",
       "      <td>0.437302</td>\n",
       "      <td>0.028025</td>\n",
       "      <td>-0.389938</td>\n",
       "    </tr>\n",
       "    <tr>\n",
       "      <th>925</th>\n",
       "      <td>-0.064355</td>\n",
       "      <td>-0.919497</td>\n",
       "      <td>-0.962634</td>\n",
       "      <td>-1.092169</td>\n",
       "      <td>-0.972368</td>\n",
       "      <td>-0.943167</td>\n",
       "      <td>-0.909432</td>\n",
       "      <td>-0.997956</td>\n",
       "    </tr>\n",
       "    <tr>\n",
       "      <th>3845</th>\n",
       "      <td>1.151980</td>\n",
       "      <td>-0.692304</td>\n",
       "      <td>-0.690195</td>\n",
       "      <td>-0.953469</td>\n",
       "      <td>-0.857536</td>\n",
       "      <td>-0.918067</td>\n",
       "      <td>-0.770015</td>\n",
       "      <td>-0.680038</td>\n",
       "    </tr>\n",
       "    <tr>\n",
       "      <th>547</th>\n",
       "      <td>1.151980</td>\n",
       "      <td>0.125590</td>\n",
       "      <td>0.127121</td>\n",
       "      <td>-2.617872</td>\n",
       "      <td>-1.690344</td>\n",
       "      <td>-1.648461</td>\n",
       "      <td>-1.649782</td>\n",
       "      <td>-1.709298</td>\n",
       "    </tr>\n",
       "    <tr>\n",
       "      <th>2259</th>\n",
       "      <td>-1.280690</td>\n",
       "      <td>0.534537</td>\n",
       "      <td>0.563023</td>\n",
       "      <td>0.572234</td>\n",
       "      <td>0.668719</td>\n",
       "      <td>0.806264</td>\n",
       "      <td>0.725109</td>\n",
       "      <td>0.512155</td>\n",
       "    </tr>\n",
       "    <tr>\n",
       "      <th>...</th>\n",
       "      <td>...</td>\n",
       "      <td>...</td>\n",
       "      <td>...</td>\n",
       "      <td>...</td>\n",
       "      <td>...</td>\n",
       "      <td>...</td>\n",
       "      <td>...</td>\n",
       "      <td>...</td>\n",
       "    </tr>\n",
       "    <tr>\n",
       "      <th>3444</th>\n",
       "      <td>-1.280690</td>\n",
       "      <td>-0.374234</td>\n",
       "      <td>-0.145318</td>\n",
       "      <td>-0.676068</td>\n",
       "      <td>-0.516386</td>\n",
       "      <td>-0.448708</td>\n",
       "      <td>-0.428684</td>\n",
       "      <td>-0.680038</td>\n",
       "    </tr>\n",
       "    <tr>\n",
       "      <th>466</th>\n",
       "      <td>-1.280690</td>\n",
       "      <td>1.261554</td>\n",
       "      <td>1.489314</td>\n",
       "      <td>1.404436</td>\n",
       "      <td>1.315343</td>\n",
       "      <td>0.989490</td>\n",
       "      <td>1.215471</td>\n",
       "      <td>1.346690</td>\n",
       "    </tr>\n",
       "    <tr>\n",
       "      <th>3092</th>\n",
       "      <td>1.151980</td>\n",
       "      <td>-0.192480</td>\n",
       "      <td>-0.199806</td>\n",
       "      <td>-0.398668</td>\n",
       "      <td>-0.490744</td>\n",
       "      <td>-0.508946</td>\n",
       "      <td>-0.419069</td>\n",
       "      <td>-0.338276</td>\n",
       "    </tr>\n",
       "    <tr>\n",
       "      <th>3772</th>\n",
       "      <td>1.151980</td>\n",
       "      <td>0.398221</td>\n",
       "      <td>0.563023</td>\n",
       "      <td>-0.537368</td>\n",
       "      <td>0.563922</td>\n",
       "      <td>0.856463</td>\n",
       "      <td>0.398201</td>\n",
       "      <td>0.035278</td>\n",
       "    </tr>\n",
       "    <tr>\n",
       "      <th>860</th>\n",
       "      <td>-1.280690</td>\n",
       "      <td>0.579975</td>\n",
       "      <td>0.671998</td>\n",
       "      <td>0.572234</td>\n",
       "      <td>0.757909</td>\n",
       "      <td>1.012079</td>\n",
       "      <td>0.518387</td>\n",
       "      <td>0.321404</td>\n",
       "    </tr>\n",
       "  </tbody>\n",
       "</table>\n",
       "<p>2923 rows × 8 columns</p>\n",
       "</div>"
      ],
      "text/plain": [
       "           Sex    Length  Diameter    Height  Whole weight  Shucked weight  \\\n",
       "2830 -1.280690 -0.056165  0.181608 -0.121267      0.095677        0.437302   \n",
       "925  -0.064355 -0.919497 -0.962634 -1.092169     -0.972368       -0.943167   \n",
       "3845  1.151980 -0.692304 -0.690195 -0.953469     -0.857536       -0.918067   \n",
       "547   1.151980  0.125590  0.127121 -2.617872     -1.690344       -1.648461   \n",
       "2259 -1.280690  0.534537  0.563023  0.572234      0.668719        0.806264   \n",
       "...        ...       ...       ...       ...           ...             ...   \n",
       "3444 -1.280690 -0.374234 -0.145318 -0.676068     -0.516386       -0.448708   \n",
       "466  -1.280690  1.261554  1.489314  1.404436      1.315343        0.989490   \n",
       "3092  1.151980 -0.192480 -0.199806 -0.398668     -0.490744       -0.508946   \n",
       "3772  1.151980  0.398221  0.563023 -0.537368      0.563922        0.856463   \n",
       "860  -1.280690  0.579975  0.671998  0.572234      0.757909        1.012079   \n",
       "\n",
       "      Viscera weight  Shell weight  \n",
       "2830        0.028025     -0.389938  \n",
       "925        -0.909432     -0.997956  \n",
       "3845       -0.770015     -0.680038  \n",
       "547        -1.649782     -1.709298  \n",
       "2259        0.725109      0.512155  \n",
       "...              ...           ...  \n",
       "3444       -0.428684     -0.680038  \n",
       "466         1.215471      1.346690  \n",
       "3092       -0.419069     -0.338276  \n",
       "3772        0.398201      0.035278  \n",
       "860         0.518387      0.321404  \n",
       "\n",
       "[2923 rows x 8 columns]"
      ]
     },
     "execution_count": 38,
     "metadata": {},
     "output_type": "execute_result"
    }
   ],
   "source": [
    "X_train"
   ]
  },
  {
   "cell_type": "code",
   "execution_count": 39,
   "id": "61102a8a",
   "metadata": {},
   "outputs": [
    {
     "data": {
      "text/plain": [
       "2830    10.5\n",
       "925      8.5\n",
       "3845    12.5\n",
       "547      8.5\n",
       "2259    14.5\n",
       "        ... \n",
       "3444    10.5\n",
       "466     13.5\n",
       "3092    12.5\n",
       "3772    10.5\n",
       "860      7.5\n",
       "Name: Age, Length: 2923, dtype: float64"
      ]
     },
     "execution_count": 39,
     "metadata": {},
     "output_type": "execute_result"
    }
   ],
   "source": [
    "Y_train"
   ]
  },
  {
   "cell_type": "code",
   "execution_count": 40,
   "id": "c17d436c",
   "metadata": {},
   "outputs": [
    {
     "data": {
      "text/html": [
       "<div>\n",
       "<style scoped>\n",
       "    .dataframe tbody tr th:only-of-type {\n",
       "        vertical-align: middle;\n",
       "    }\n",
       "\n",
       "    .dataframe tbody tr th {\n",
       "        vertical-align: top;\n",
       "    }\n",
       "\n",
       "    .dataframe thead th {\n",
       "        text-align: right;\n",
       "    }\n",
       "</style>\n",
       "<table border=\"1\" class=\"dataframe\">\n",
       "  <thead>\n",
       "    <tr style=\"text-align: right;\">\n",
       "      <th></th>\n",
       "      <th>Sex</th>\n",
       "      <th>Length</th>\n",
       "      <th>Diameter</th>\n",
       "      <th>Height</th>\n",
       "      <th>Whole weight</th>\n",
       "      <th>Shucked weight</th>\n",
       "      <th>Viscera weight</th>\n",
       "      <th>Shell weight</th>\n",
       "    </tr>\n",
       "  </thead>\n",
       "  <tbody>\n",
       "    <tr>\n",
       "      <th>866</th>\n",
       "      <td>1.15198</td>\n",
       "      <td>0.670852</td>\n",
       "      <td>0.454047</td>\n",
       "      <td>0.572234</td>\n",
       "      <td>0.675409</td>\n",
       "      <td>0.379573</td>\n",
       "      <td>1.196241</td>\n",
       "      <td>0.750594</td>\n",
       "    </tr>\n",
       "    <tr>\n",
       "      <th>1483</th>\n",
       "      <td>1.15198</td>\n",
       "      <td>0.534537</td>\n",
       "      <td>0.290584</td>\n",
       "      <td>0.294834</td>\n",
       "      <td>0.160339</td>\n",
       "      <td>0.208897</td>\n",
       "      <td>0.364548</td>\n",
       "      <td>0.114757</td>\n",
       "    </tr>\n",
       "    <tr>\n",
       "      <th>599</th>\n",
       "      <td>-1.28069</td>\n",
       "      <td>0.261905</td>\n",
       "      <td>0.345072</td>\n",
       "      <td>1.543136</td>\n",
       "      <td>0.402266</td>\n",
       "      <td>-0.202733</td>\n",
       "      <td>0.455890</td>\n",
       "      <td>0.830073</td>\n",
       "    </tr>\n",
       "    <tr>\n",
       "      <th>1702</th>\n",
       "      <td>-1.28069</td>\n",
       "      <td>0.943484</td>\n",
       "      <td>0.835461</td>\n",
       "      <td>0.849635</td>\n",
       "      <td>1.027707</td>\n",
       "      <td>0.969410</td>\n",
       "      <td>0.859718</td>\n",
       "      <td>1.187731</td>\n",
       "    </tr>\n",
       "    <tr>\n",
       "      <th>670</th>\n",
       "      <td>1.15198</td>\n",
       "      <td>-0.510550</td>\n",
       "      <td>-0.308781</td>\n",
       "      <td>0.156133</td>\n",
       "      <td>-0.408244</td>\n",
       "      <td>-0.554125</td>\n",
       "      <td>-0.664250</td>\n",
       "      <td>-0.123681</td>\n",
       "    </tr>\n",
       "    <tr>\n",
       "      <th>...</th>\n",
       "      <td>...</td>\n",
       "      <td>...</td>\n",
       "      <td>...</td>\n",
       "      <td>...</td>\n",
       "      <td>...</td>\n",
       "      <td>...</td>\n",
       "      <td>...</td>\n",
       "      <td>...</td>\n",
       "    </tr>\n",
       "    <tr>\n",
       "      <th>162</th>\n",
       "      <td>1.15198</td>\n",
       "      <td>0.716291</td>\n",
       "      <td>0.780974</td>\n",
       "      <td>0.988335</td>\n",
       "      <td>0.989802</td>\n",
       "      <td>0.997019</td>\n",
       "      <td>1.152974</td>\n",
       "      <td>0.909553</td>\n",
       "    </tr>\n",
       "    <tr>\n",
       "      <th>2206</th>\n",
       "      <td>-1.28069</td>\n",
       "      <td>-2.191777</td>\n",
       "      <td>-2.052389</td>\n",
       "      <td>-1.785671</td>\n",
       "      <td>-1.472944</td>\n",
       "      <td>-1.475275</td>\n",
       "      <td>-1.476713</td>\n",
       "      <td>-1.514573</td>\n",
       "    </tr>\n",
       "    <tr>\n",
       "      <th>3980</th>\n",
       "      <td>-1.28069</td>\n",
       "      <td>-0.056165</td>\n",
       "      <td>-0.036343</td>\n",
       "      <td>-0.676068</td>\n",
       "      <td>-0.058175</td>\n",
       "      <td>0.354474</td>\n",
       "      <td>-0.135429</td>\n",
       "      <td>-0.401860</td>\n",
       "    </tr>\n",
       "    <tr>\n",
       "      <th>3075</th>\n",
       "      <td>-1.28069</td>\n",
       "      <td>1.352431</td>\n",
       "      <td>1.162388</td>\n",
       "      <td>1.265735</td>\n",
       "      <td>1.546121</td>\n",
       "      <td>1.353431</td>\n",
       "      <td>2.080816</td>\n",
       "      <td>1.394378</td>\n",
       "    </tr>\n",
       "    <tr>\n",
       "      <th>2148</th>\n",
       "      <td>1.15198</td>\n",
       "      <td>-1.055813</td>\n",
       "      <td>-1.126097</td>\n",
       "      <td>-1.369570</td>\n",
       "      <td>-1.061557</td>\n",
       "      <td>-1.078703</td>\n",
       "      <td>-0.995966</td>\n",
       "      <td>-0.918477</td>\n",
       "    </tr>\n",
       "  </tbody>\n",
       "</table>\n",
       "<p>1254 rows × 8 columns</p>\n",
       "</div>"
      ],
      "text/plain": [
       "          Sex    Length  Diameter    Height  Whole weight  Shucked weight  \\\n",
       "866   1.15198  0.670852  0.454047  0.572234      0.675409        0.379573   \n",
       "1483  1.15198  0.534537  0.290584  0.294834      0.160339        0.208897   \n",
       "599  -1.28069  0.261905  0.345072  1.543136      0.402266       -0.202733   \n",
       "1702 -1.28069  0.943484  0.835461  0.849635      1.027707        0.969410   \n",
       "670   1.15198 -0.510550 -0.308781  0.156133     -0.408244       -0.554125   \n",
       "...       ...       ...       ...       ...           ...             ...   \n",
       "162   1.15198  0.716291  0.780974  0.988335      0.989802        0.997019   \n",
       "2206 -1.28069 -2.191777 -2.052389 -1.785671     -1.472944       -1.475275   \n",
       "3980 -1.28069 -0.056165 -0.036343 -0.676068     -0.058175        0.354474   \n",
       "3075 -1.28069  1.352431  1.162388  1.265735      1.546121        1.353431   \n",
       "2148  1.15198 -1.055813 -1.126097 -1.369570     -1.061557       -1.078703   \n",
       "\n",
       "      Viscera weight  Shell weight  \n",
       "866         1.196241      0.750594  \n",
       "1483        0.364548      0.114757  \n",
       "599         0.455890      0.830073  \n",
       "1702        0.859718      1.187731  \n",
       "670        -0.664250     -0.123681  \n",
       "...              ...           ...  \n",
       "162         1.152974      0.909553  \n",
       "2206       -1.476713     -1.514573  \n",
       "3980       -0.135429     -0.401860  \n",
       "3075        2.080816      1.394378  \n",
       "2148       -0.995966     -0.918477  \n",
       "\n",
       "[1254 rows x 8 columns]"
      ]
     },
     "execution_count": 40,
     "metadata": {},
     "output_type": "execute_result"
    }
   ],
   "source": [
    "X_test"
   ]
  },
  {
   "cell_type": "code",
   "execution_count": 41,
   "id": "972a6b74",
   "metadata": {},
   "outputs": [
    {
     "data": {
      "text/plain": [
       "866     10.5\n",
       "1483     9.5\n",
       "599     17.5\n",
       "1702    10.5\n",
       "670     15.5\n",
       "        ... \n",
       "162     13.5\n",
       "2206     6.5\n",
       "3980     8.5\n",
       "3075    12.5\n",
       "2148     9.5\n",
       "Name: Age, Length: 1254, dtype: float64"
      ]
     },
     "execution_count": 41,
     "metadata": {},
     "output_type": "execute_result"
    }
   ],
   "source": [
    "Y_test"
   ]
  },
  {
   "cell_type": "markdown",
   "id": "4d7c24d9",
   "metadata": {},
   "source": [
    "# Build the Model"
   ]
  },
  {
   "cell_type": "code",
   "execution_count": 42,
   "id": "1ce3b13b",
   "metadata": {},
   "outputs": [],
   "source": [
    "from sklearn.linear_model import LinearRegression\n",
    "le=LinearRegression()"
   ]
  },
  {
   "cell_type": "markdown",
   "id": "a06df442",
   "metadata": {},
   "source": [
    "# Train the model"
   ]
  },
  {
   "cell_type": "code",
   "execution_count": 43,
   "id": "9c6ace56",
   "metadata": {},
   "outputs": [
    {
     "data": {
      "text/plain": [
       "LinearRegression()"
      ]
     },
     "execution_count": 43,
     "metadata": {},
     "output_type": "execute_result"
    }
   ],
   "source": [
    "le.fit(X_train,Y_train)"
   ]
  },
  {
   "cell_type": "code",
   "execution_count": 44,
   "id": "4490af94",
   "metadata": {},
   "outputs": [
    {
     "data": {
      "text/plain": [
       "array([-0.02932136, -1.15445144,  1.11245463,  1.09805024,  1.28572489,\n",
       "       -1.73520628,  0.05449915,  1.1962292 ])"
      ]
     },
     "execution_count": 44,
     "metadata": {},
     "output_type": "execute_result"
    }
   ],
   "source": [
    "le.coef_"
   ]
  },
  {
   "cell_type": "markdown",
   "id": "73e23c72",
   "metadata": {},
   "source": [
    "# Test the model"
   ]
  },
  {
   "cell_type": "code",
   "execution_count": 45,
   "id": "062df9e5",
   "metadata": {},
   "outputs": [],
   "source": [
    "pred=le.predict(X_test)"
   ]
  },
  {
   "cell_type": "code",
   "execution_count": 46,
   "id": "477fa086",
   "metadata": {},
   "outputs": [
    {
     "data": {
      "text/plain": [
       "5.928155592319444"
      ]
     },
     "execution_count": 46,
     "metadata": {},
     "output_type": "execute_result"
    }
   ],
   "source": [
    "from sklearn import metrics\n",
    "metrics.mean_squared_error(Y_test,pred)"
   ]
  },
  {
   "cell_type": "code",
   "execution_count": 47,
   "id": "2355ec18",
   "metadata": {},
   "outputs": [
    {
     "data": {
      "text/plain": [
       "2.434780399198138"
      ]
     },
     "execution_count": 47,
     "metadata": {},
     "output_type": "execute_result"
    }
   ],
   "source": [
    "np.sqrt(metrics.mean_squared_error(Y_test,pred))"
   ]
  },
  {
   "cell_type": "code",
   "execution_count": 48,
   "id": "288f9a00",
   "metadata": {},
   "outputs": [
    {
     "data": {
      "text/plain": [
       "0.4162073881689009"
      ]
     },
     "execution_count": 48,
     "metadata": {},
     "output_type": "execute_result"
    }
   ],
   "source": [
    "metrics.r2_score(Y_test,pred)"
   ]
  },
  {
   "cell_type": "code",
   "execution_count": null,
   "id": "3e0130cd",
   "metadata": {},
   "outputs": [],
   "source": []
  }
 ],
 "metadata": {
  "kernelspec": {
   "display_name": "Python 3 (ipykernel)",
   "language": "python",
   "name": "python3"
  },
  "language_info": {
   "codemirror_mode": {
    "name": "ipython",
    "version": 3
   },
   "file_extension": ".py",
   "mimetype": "text/x-python",
   "name": "python",
   "nbconvert_exporter": "python",
   "pygments_lexer": "ipython3",
   "version": "3.9.12"
  }
 },
 "nbformat": 4,
 "nbformat_minor": 5
}
