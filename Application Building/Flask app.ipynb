{
 "cells": [
  {
   "cell_type": "code",
   "execution_count": 1,
   "id": "2de460f8",
   "metadata": {},
   "outputs": [],
   "source": [
    "import numpy as np\n",
    "from flask import Flask, request, jsonify, render_template\n",
    "import joblib\n",
    "import random"
   ]
  },
  {
   "cell_type": "code",
   "execution_count": 3,
   "id": "37bf2407",
   "metadata": {},
   "outputs": [],
   "source": [
    "app = Flask(__name__)\n",
    "model = joblib.load(\"engine_model.pkl\")"
   ]
  },
  {
   "cell_type": "code",
   "execution_count": 4,
   "id": "b42fe677",
   "metadata": {},
   "outputs": [],
   "source": [
    "@app.route('/')\n",
    "def index():\n",
    "    return render_template('/content/index.html')"
   ]
  },
  {
   "cell_type": "code",
   "execution_count": 5,
   "id": "b9ddbdce",
   "metadata": {},
   "outputs": [],
   "source": [
    "@app.route('/result', methods=['POST'])\n",
    "def result():\n",
    "    try:\n",
    "        if request.method == 'POST':\n",
    "            l=[]\n",
    "            l.append(float(request.form['id']))\n",
    "            l.append(float(request.form['cycle']))\n",
    "            l.append(float(request.form['set1']))\n",
    "            l.append(float(request.form['set2']))\n",
    "            l.append(float(request.form['set3']))\n",
    "            l.append(float(request.form['s1']))\n",
    "            l.append(float(request.form['s2']))\n",
    "            l.append(float(request.form['s3']))\n",
    "            l.append(float(request.form['s4']))\n",
    "            l.append(float(request.form['s5']))\n",
    "            l.append(float(request.form['s6']))\n",
    "            l.append(float(request.form['s7']))\n",
    "            l.append(float(request.form['s8']))\n",
    "            l.append(float(request.form['s9']))\n",
    "            l.append(float(request.form['s10']))\n",
    "            l.append(float(request.form['s11']))\n",
    "            l.append(float(request.form['s12']))\n",
    "            l.append(float(request.form['s13']))\n",
    "            l.append(float(request.form['s14']))\n",
    "            l.append(float(request.form['s15']))\n",
    "            l.append(float(request.form['s16']))\n",
    "            l.append(float(request.form['s17']))\n",
    "            l.append(float(request.form['s18']))\n",
    "            l.append(float(request.form['s19']))\n",
    "            l.append(float(request.form['s20']))\n",
    "            l.append(float(request.form['s21']))\n",
    "            print(l)\n",
    "            if predict(l):\n",
    "                return render_template('/content/result.html',data=\"problem\")\n",
    "            else:\n",
    "                return render_template('/content/result.html',data=\"normal\")\n",
    "    except:\n",
    "        return render_template('/content/result.html',data=\"error\")"
   ]
  },
  {
   "cell_type": "code",
   "execution_count": 6,
   "id": "d4682aac",
   "metadata": {},
   "outputs": [
    {
     "data": {
      "text/plain": [
       "<function _pydev_bundle.pydev_umd.runfile(filename, args=None, wdir=None, namespace=None)>"
      ]
     },
     "execution_count": 6,
     "metadata": {},
     "output_type": "execute_result"
    }
   ],
   "source": [
    "runfile"
   ]
  },
  {
   "cell_type": "code",
   "execution_count": null,
   "id": "3526e51e",
   "metadata": {},
   "outputs": [],
   "source": []
  }
 ],
 "metadata": {
  "kernelspec": {
   "display_name": "Python 3 (ipykernel)",
   "language": "python",
   "name": "python3"
  },
  "language_info": {
   "codemirror_mode": {
    "name": "ipython",
    "version": 3
   },
   "file_extension": ".py",
   "mimetype": "text/x-python",
   "name": "python",
   "nbconvert_exporter": "python",
   "pygments_lexer": "ipython3",
   "version": "3.9.12"
  }
 },
 "nbformat": 4,
 "nbformat_minor": 5
}
